{
 "cells": [
  {
   "cell_type": "markdown",
   "id": "4b975534-11c6-4b51-9593-2d5475e21afc",
   "metadata": {},
   "source": [
    "# Workers and Queues Lab"
   ]
  },
  {
   "cell_type": "markdown",
   "id": "5b121b2a-d523-44ad-92de-1e02cc7ece8e",
   "metadata": {},
   "source": [
    "### Introduction"
   ]
  },
  {
   "cell_type": "markdown",
   "id": "899f21db-2df8-4fa8-8ee4-bc1a5641e64a",
   "metadata": {},
   "source": [
    "In this lesson, we'll work with prefect deployments to schedule requests to the Spotify API.  Let's get started."
   ]
  },
  {
   "cell_type": "markdown",
   "id": "5e64a7b4-ed1a-443d-9744-46d1131ef458",
   "metadata": {},
   "source": [
    "### Getting set up"
   ]
  },
  {
   "cell_type": "markdown",
   "id": "59145317-050a-4097-99f4-ea64b82dd43c",
   "metadata": {},
   "source": [
    "You'll notice that we are again working with the spotify codebase from the previous lab. \n",
    "\n",
    "* Do **not** create a python environment for this lab -- it will likely mess things up.\n",
    "\n",
    "* Install the libraries in the `requirements.txt` file.\n",
    "\n",
    "* Add in your spotify API keys to the `etl/spotify_extractor/.env` file.  If you do not have spotify api keys, you can see the docs on how to create them [here](https://developer.spotify.com/documentation/web-api/tutorials/getting-started). \n",
    "\n",
    "* From there run `python3 spotify_workflow.py`, which will run the workflow.  Confirm that the track data is saved in the `data` folder.  \n",
    "\n",
    "> Please look at the file itself, which should look like the following:\n",
    "```csv\n",
    ",track_id,ranking,date,playlist_id\n",
    "0,4xhsWYTOGcal8zt0J161CU,1,2024-01-11,37i9dQZEVXbLRQDuF5jeBp\n",
    "1,0mflMxspEfB0VbI1kyLiAv,2,2024-01-11,37i9dQZEVXbLRQDuF5jeBp\n",
    "```"
   ]
  },
  {
   "cell_type": "markdown",
   "id": "705b9d12-4a5c-40b7-8b93-23ed5aabef09",
   "metadata": {},
   "source": [
    "* Real issue seems to be setting up an **environment**"
   ]
  },
  {
   "cell_type": "markdown",
   "id": "ab379409-f5fc-4a01-bd42-9ec7ba25ee78",
   "metadata": {},
   "source": [
    "### Setting up Deployments"
   ]
  },
  {
   "cell_type": "markdown",
   "id": "ec8f12e3-3ddc-4598-b74f-eebceafa5390",
   "metadata": {},
   "source": [
    "Ok, so now we can see the entrypoint to our prefect workflow as the `extract_and_write` function in the `spotify_workflow.py` file.\n",
    "\n",
    "* `extract_and_write(playlist_id)`"
   ]
  },
  {
   "cell_type": "markdown",
   "id": "28d0441e-9dc3-4547-a0f5-7ba62e76b0bc",
   "metadata": {},
   "source": [
    "Next let's turn this into a deployment.  Use the `serve` method to:\n",
    "\n",
    "* name the deployment `get-songs-deployment`\n",
    "* pass through the necessary parameters to call the workflow\n",
    "\n",
    "Then re-run the `spotify_workflow.py` file."
   ]
  },
  {
   "cell_type": "markdown",
   "id": "1e8855b8-6846-4bdf-bc71-05fad17bd5ac",
   "metadata": {},
   "source": [
    "* You can see that this created a deployment.\n",
    "\n",
    "From a new tab, run the following:\n",
    "    \n",
    "`prefect server start`\n",
    "\n",
    "And then click on deployments, where you should see the `get-songs-deployment`."
   ]
  },
  {
   "cell_type": "markdown",
   "id": "e511cf5a-3a7f-4210-8c44-bc441b025642",
   "metadata": {},
   "source": [
    "<img src=\"./get-songs-deployment.png\">"
   ]
  },
  {
   "cell_type": "markdown",
   "id": "b3a06dbb-c904-4c7c-9a6d-117008d8b554",
   "metadata": {},
   "source": [
    "From there, if you click on the `get-songs-deployment`, followed by the `Runs` or `Upcoming` tabs, you can see that nothing has been run, and nothing is scheduled.  \n",
    "\n",
    "Let's change that."
   ]
  },
  {
   "cell_type": "markdown",
   "id": "906e38e1-143a-4af2-a541-9c5213f3b48e",
   "metadata": {},
   "source": [
    "> First import both the interval schedule and the Deployment class with the following code: \n",
    "\n",
    "```python\n",
    "from prefect.server.schemas.schedules import IntervalSchedule\n",
    "from prefect.deployments.deployments import Deployment\n",
    "```"
   ]
  },
  {
   "cell_type": "markdown",
   "id": "a2cebbc3-8b20-4dfe-952e-24d3acadec51",
   "metadata": {},
   "source": [
    "Create a prefect deployment using the `Deployment.build_from_flow` method.\n",
    "\n",
    "In doing that you'll need to set the following parameters:"
   ]
  },
  {
   "cell_type": "markdown",
   "id": "23fde2ba-8f48-474f-a3da-97a2f5100452",
   "metadata": {},
   "source": [
    "```python\n",
    "name=\"spotify_deployment\",\n",
    "flow=extract_and_write,\n",
    "version=1,\n",
    "schedule=schedule,\n",
    "is_schedule_active=True,\n",
    "work_queue_name=\"default\",\n",
    "parameters=parameters,\n",
    "entrypoint=\"./spotify_workflow.py:extract_and_write\",\n",
    "```"
   ]
  },
  {
   "cell_type": "markdown",
   "id": "19e86ba0-4524-4887-a67f-9a7975e49b6c",
   "metadata": {},
   "source": [
    "We'll let you assign the parameters to the appropriate Python variable.  And for the schedule, assign this to an instance of the IntervalSchedule, to be run every ten seconds.  "
   ]
  },
  {
   "cell_type": "markdown",
   "id": "5aaa18a7-6f57-4ecd-9746-ec43efc8317b",
   "metadata": {},
   "source": [
    "Make sure to add the Python code to apply the deployment.\n",
    "\n",
    "```python\n",
    "deployment.apply(upload=True)\n",
    "```"
   ]
  },
  {
   "cell_type": "markdown",
   "id": "d0a3e496-b14e-401a-a839-d3e64dd917f6",
   "metadata": {},
   "source": [
    "And then run the Python script that has this deployment to apply the deployment."
   ]
  },
  {
   "cell_type": "markdown",
   "id": "98911a66-270b-4335-b9d8-65f13146622a",
   "metadata": {},
   "source": [
    "From there, you'll need to have to start up the `default-agent-pool`."
   ]
  },
  {
   "cell_type": "markdown",
   "id": "63a8b129-e973-48e5-b1d1-d8bc402f393a",
   "metadata": {},
   "source": [
    "```bash\n",
    "prefect agent start -p 'default-agent-pool'\n",
    "```"
   ]
  },
  {
   "cell_type": "markdown",
   "id": "a84ee82b-0200-41c4-86ad-feb87c93c00b",
   "metadata": {},
   "source": [
    "Now if you navigate to the webserver, and click on deployments you should see your new `spotify_deployment`.  And from there click on the deployment followed by `runs`, and you should see some successful runs."
   ]
  },
  {
   "cell_type": "markdown",
   "id": "b7095ecc-4d9e-46cb-a42f-dcfd6f63066f",
   "metadata": {},
   "source": [
    "<img src=\"./success.png\">"
   ]
  },
  {
   "cell_type": "markdown",
   "id": "4f47ed95-1a93-43fc-a9f4-dd0994e19851",
   "metadata": {
    "tags": []
   },
   "source": [
    "### Resources\n",
    "\n",
    "[Jeff Hale - Deployments](https://medium.com/the-prefect-blog/deploy-prefect-pipelines-with-python-perfect-68c944a3a89f)"
   ]
  },
  {
   "cell_type": "markdown",
   "id": "fc250cab-da27-4576-8856-d9c5a84ae9d0",
   "metadata": {},
   "source": [
    "[Kevin Kho](https://medium.com/the-prefect-blog/the-simple-guide-to-productionizing-data-workflows-with-docker-31a5aae67c0a)"
   ]
  },
  {
   "cell_type": "markdown",
   "id": "1d0a4e9f-246b-44d1-907f-bc4c527594e0",
   "metadata": {},
   "source": [
    "[Creating a Deployment](https://discourse.prefect.io/t/error-when-creating-a-deployment-with-the-cli-modulenotfound/2426/4)"
   ]
  },
  {
   "cell_type": "markdown",
   "id": "bd874f9a-9f77-47db-8d65-cf36d0af851c",
   "metadata": {},
   "source": [
    "[Sample deployment](https://github.com/PrefectHQ/prefect/issues/8710)"
   ]
  },
  {
   "cell_type": "code",
   "execution_count": null,
   "id": "51cb66d1-8fc2-4127-b27a-cf95177257f2",
   "metadata": {},
   "outputs": [],
   "source": []
  }
 ],
 "metadata": {
  "kernelspec": {
   "display_name": "Python 3 (ipykernel)",
   "language": "python",
   "name": "python3"
  },
  "language_info": {
   "codemirror_mode": {
    "name": "ipython",
    "version": 3
   },
   "file_extension": ".py",
   "mimetype": "text/x-python",
   "name": "python",
   "nbconvert_exporter": "python",
   "pygments_lexer": "ipython3",
   "version": "3.10.13"
  }
 },
 "nbformat": 4,
 "nbformat_minor": 5
}
